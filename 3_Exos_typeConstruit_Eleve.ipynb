{
 "cells": [
  {
   "cell_type": "markdown",
   "metadata": {},
   "source": [
    "# LISTE, TUPLE et DICTIONNAIRE : en route pour les TABLES"
   ]
  },
  {
   "cell_type": "markdown",
   "metadata": {},
   "source": [
    "*Voici une série d'exercices à faire sur ce notebook pour retravailler les types list, tuple et dict, afin de travailler ensuite sur les tables de données.*"
   ]
  },
  {
   "cell_type": "markdown",
   "metadata": {},
   "source": [
    "**A partir de L:**\n",
    "\n",
    "1) Ajouter la valeur 1 à chacun de ses éléments avec une boucle \"for i in range(len(L))\"\n",
    "2) Ajouter la valeur 11,12,13 à la fin de la liste, avec append  \n",
    "3) Afficher le premier élément, les deux premiers éléments, le dernier élément, les deux derniers éléments.  \n",
    "-> print  \n",
    "4) Construire la liste \"paires\" qui contient les nombres paires de L et la liste \"impaire\" qui contient les nombres \"impaires\" de L.  \n",
    "-> boucle for et liste par compréhension  \n",
    "5) Ajouter la valeur 3.5 entre 3 et 4. (insert) \n",
    "6) Supprimer la valeur 3.5. (del)  \n",
    "7) Inverser l'ordre des éléments de L en créant une nouvelle liste L2, d'abord vide, avec une boucle \"for i in range(len(L))\"  \n",
    "A l'envers les éléments d'une liste sont numérotées par des nombres négatifs.\n",
    "8) Demander à l'utilisateur de fournir un nombre au hasard et dire si ce nombre est présent dans L. (import random)  "
   ]
  },
  {
   "cell_type": "code",
   "execution_count": 3,
   "metadata": {},
   "outputs": [
    {
     "ename": "SyntaxError",
     "evalue": "invalid syntax (<ipython-input-3-781d646cf96f>, line 15)",
     "output_type": "error",
     "traceback": [
      "\u001b[1;36m  File \u001b[1;32m\"<ipython-input-3-781d646cf96f>\"\u001b[1;36m, line \u001b[1;32m15\u001b[0m\n\u001b[1;33m    impaire=\u001b[0m\n\u001b[1;37m            ^\u001b[0m\n\u001b[1;31mSyntaxError\u001b[0m\u001b[1;31m:\u001b[0m invalid syntax\n"
     ]
    }
   ],
   "source": [
    "L = [0, 1, 2, 3, 4, 5, 6, 7, 8, 9]\n",
    "#question1\n",
    "for i in range(len(L)):\n",
    "    L[i]= ...\n",
    "print(L)\n",
    "#question2\n",
    "L.append(11)\n",
    "...\n",
    "...\n",
    "print(L) \n",
    "#question3\n",
    "...\n",
    "#question4\n",
    "paire=[elt for elt in L if ...]\n",
    "impaire=\n",
    "print(paire)\n",
    "print(impaire)\n",
    "#question5\n",
    "L.insert(...)\n",
    "print(L)\n",
    "#question6\n",
    "del L[...]\n",
    "print(L)\n",
    "#question7\n",
    "L2=...\n",
    "for i in range(len(L)):\n",
    "    L2.append(L[...])\n",
    "print(L2)    \n",
    "#question8\n",
    "import ...\n",
    "nombre= ...\n",
    "if nombre in ......\n"
   ]
  },
  {
   "cell_type": "markdown",
   "metadata": {},
   "source": [
    "Donner une définition de la *fonction liste_mult* qui, étant donné une liste L d’entiers et un  \n",
    "entier k, retourne la liste obtenue en multipliant par k tous les éléments de L.  \n",
    "Par exemple :  \n",
    "print(list_mult(\\[3, 5, 9, 4\\], 2))  \n",
    "\\[6, 10, 18, 8\\]  \n",
    "print(list_mult(\\[\\], 2))  \n",
    "\\[\\]  \n",
    "Faire un test avec un assert  "
   ]
  },
  {
   "cell_type": "code",
   "execution_count": 1,
   "metadata": {},
   "outputs": [],
   "source": [
    "def list_mult(L,k):\n",
    "    \"\"\"retourne la liste obtenue en multipliant par k tous les éléments de L.\n",
    "    L: ...\n",
    "    k :...\n",
    "    resultat : ...\n",
    "    \"\"\"\n",
    "    L1=[]\n",
    "    #je parcours tous les éléments de la liste L\n",
    "    for elt in ... :\n",
    "        L1.append(...)  #il faut multiplier les éléments par k\n",
    "    \n",
    "    return(L1)\n",
    "    \n",
    "print(list_mult([3, 5, 9, 4], 2))\n",
    "assert ..."
   ]
  },
  {
   "cell_type": "markdown",
   "metadata": {},
   "source": [
    "Donner une définition de la *fonction moyenne* qui, à partir d’une liste de notes  \n",
    "(entre 0 et 20) retourne leur moyenne.  \n",
    "Par exemple :  \n",
    "print(moyenne(\\[12, 8, 14, 6, 5, 15\\]))  \n",
    "10.0  \n",
    "Faire un test avec un assert  "
   ]
  },
  {
   "cell_type": "code",
   "execution_count": 3,
   "metadata": {},
   "outputs": [],
   "source": [
    "def moyenne(L):\n",
    "    \"\"\" retourne ....\n",
    "    L : ...\n",
    "    resultat : ...\n",
    "    \"\"\"\n",
    "    somme=0\n",
    "    #calcul de la somme de tous les éléments de L avec une boucle for\n",
    "    ...\n",
    "    #calcul de la moyenne\n",
    "    moy=...\n",
    "    return(...)\n",
    "    \n",
    "    "
   ]
  },
  {
   "cell_type": "markdown",
   "metadata": {},
   "source": [
    "*Compréhension de liste*  \n",
    "En utilisant une compréhension, déterminer la liste ecart_nombre qui, étant donné une liste de nombres L et un nombre x,  \n",
    "contient toutes les valeurs absolues des différences des nombres de L avec x. Par exemple  \n",
    "Si L=\\[10,10,10\\] et si x=10  \n",
    "ecart_nombre\\[0, 0, 0\\]  \n",
    "Si L=\\[0,10,20\\] et si x=10  \n",
    "ecart_nombre=\\[10, 0, 10\\]  \n"
   ]
  },
  {
   "cell_type": "code",
   "execution_count": 6,
   "metadata": {},
   "outputs": [
    {
     "ename": "SyntaxError",
     "evalue": "invalid syntax (<ipython-input-6-8691cd864492>, line 3)",
     "output_type": "error",
     "traceback": [
      "\u001b[1;36m  File \u001b[1;32m\"<ipython-input-6-8691cd864492>\"\u001b[1;36m, line \u001b[1;32m3\u001b[0m\n\u001b[1;33m    ecart_nombre=\u001b[0m\n\u001b[1;37m                 ^\u001b[0m\n\u001b[1;31mSyntaxError\u001b[0m\u001b[1;31m:\u001b[0m invalid syntax\n"
     ]
    }
   ],
   "source": [
    "L=[-5,1,7,15,120,135,147,250]\n",
    "x=60\n",
    "ecart_nombre=[... for elt in L]"
   ]
  },
  {
   "cell_type": "markdown",
   "metadata": {},
   "source": [
    "Refaire la même chose mais en utilisant une fonction :*La fonction ecart_nombre* qui, étant donné une liste de nombres L et  \n",
    "un nombre x, renvoie la liste de la valeur absolue de la différence des nombres de L avec x. Par exemple  \n",
    "print(ecart_nombre(\\[10,10,10\\],10))  \n",
    "\\[0,0,0\\]  \n",
    "print(ecart_nombre(\\[0,10,20\\],10))  \n",
    "\\[10,0,10\\]  \n",
    "print(ecart_nombre(\\[1,2\\],1.5))  \n",
    "\\[0.5,0.5\\]  \n"
   ]
  },
  {
   "cell_type": "code",
   "execution_count": null,
   "metadata": {},
   "outputs": [],
   "source": [
    "def ecart_nombre(L,x):\n",
    "    \"\"\"renvoie la liste de la valeur absolue de la différence des nombres de L avec x\n",
    "    L : list\n",
    "    x : int ou float\n",
    "    resultat : list \"\"\"\n",
    "    #je crée la liste écart nombre entre les éléments de L et x, puis je retourne cette liste\n",
    "    \n",
    "\n",
    "print(ecart_nombre([0,10,20],10))    \n",
    "    "
   ]
  },
  {
   "cell_type": "markdown",
   "metadata": {},
   "source": [
    "*List de List : matrice PAC-MAN*  \n",
    "Pacourir tous les éléments de la matrice M et si l'élément de la matrice est un     \n",
    "1 afficher * (étoile)  \n",
    "0 afficher  (espace)  \n",
    "2 afficher . (point)  \n",
    "3 afficher O (o majuscule)  \n",
    "L'affichage doit de faire ligne par ligne comme pour la matrice  \n",
    "On utilise une double boucle :   \n",
    "\"for i in range ....  \n",
    "    for j in range ...\"  \n",
    "-> print(...,end=\"\") si on ne souhaite pas sauter de ligne lors de l'affichage  \n",
    "-> arrivé au bout d'une ligne on saute une ligne, print(\"\")  "
   ]
  },
  {
   "cell_type": "code",
   "execution_count": 8,
   "metadata": {},
   "outputs": [],
   "source": [
    "L1=[0,0,1,1,1,1,1,1,0,0,0,0,0,1,1,1,1,1,1,0,0,0,0,0,1,1,1,1,1,1,0,0]\n",
    "L2=[0,1,0,0,0,0,0,0,1,0,0,0,1,0,0,0,0,0,0,1,0,0,0,1,0,0,0,0,0,0,1,0]\n",
    "L3=[1,0,0,3,0,0,3,0,0,1,0,1,0,0,3,0,0,3,0,0,1,0,1,0,0,3,0,0,3,0,0,1]\n",
    "L4=[1,0,0,0,0,0,0,0,0,1,0,1,0,0,0,0,0,0,0,0,1,0,1,0,0,0,0,0,0,0,0,1]\n",
    "L5=[1,0,0,2,2,2,2,0,0,1,0,1,0,0,2,0,0,2,0,0,1,0,1,0,0,2,2,2,2,0,0,1]\n",
    "L6=[1,0,0,2,2,2,2,0,0,1,0,1,0,0,2,2,2,2,0,0,1,0,1,0,0,2,0,0,2,0,0,1]\n",
    "L7=[1,0,0,0,0,0,0,0,0,1,0,1,0,0,0,0,0,0,0,0,1,0,1,0,0,0,0,0,0,0,0,1]\n",
    "L8=[1,1,1,1,1,1,1,1,1,1,0,1,1,1,1,1,1,1,1,1,1,0,1,1,1,1,1,1,1,1,1,1]\n",
    "M=[L1,L2,L3,L4,L5,L6,L7,L8]\n",
    "for i in range(...) :\n",
    "    for j in range(...) : \n",
    "        if M[...][...]==... :\n",
    "            print(...,end=\"\")\n",
    "        #etc ...\n",
    "        \n",
    "    #reste à sauter une ligne à la fin de chaque ligne cad si j est \"au bout de la ligne\"\n",
    "    "
   ]
  },
  {
   "cell_type": "markdown",
   "metadata": {},
   "source": [
    "*DICTIONNAIRE :*  \n",
    "Dans cet exercice, nous avons un magasin en ligne.  \n",
    "«Chez Geek and sons tout ce qui est inutile peut s’acheter, et tout ce qui peut  \n",
    "s’acheter est un peu trop cher.»  \n",
    "La base de prix des produits de Geek and sons est représentée en Python par un dictionnaire de  \n",
    "type dict\\[str:float\\] avec :  \n",
    "— les noms de produits, de type str, comme clés  \n",
    "— les prix des produits, de type float, comme valeurs associées.  \n",
    "-> voir le dictionnaire ci-dessous  \n",
    "1) Donner une définition de la *fonction disponibilite* qui étant donné un nom de produit prod et une base de produit,  \n",
    "retourne True si le produit est présent dans la base, ou False sinon.  \n",
    "Par exemple  \n",
    "print(disponibilite(\"caramel\",Geek_sons))  \n",
    "False  \n",
    "print(disponibilite(\"Slip Godorak\",Geek_sons))  \n",
    "True  \n",
    "  \n",
    "2) Donner une définition de la *fonction prix_moyen* qui, étant donné une base de produits (contenant \n",
    "au moins un produit), retourne le prix moyen des produits disponibles.  \n",
    "Par exemple :  \n",
    "print(prix_moyen(Geek_sons))  \n",
    "129.06  \n",
    "  \n",
    "3) Donner une définition de la *fonction fourchette_prix* qui, étant donné un prix minimum  \n",
    "mini, un prix maximum maxi et une base de produits, retourne l’ensemble des noms de produits  \n",
    "disponibles dans cette fourchette de prix.  \n",
    "Par exemple :  \n",
    "print(fourchette_prix(50.0, 200.0, Geek_sons))  \n",
    "{'Coussin Linux', 'Mitendo DX', 'Station Nextpresso'}  \n"
   ]
  },
  {
   "cell_type": "code",
   "execution_count": 5,
   "metadata": {},
   "outputs": [
    {
     "name": "stdout",
     "output_type": "stream",
     "text": [
      "None\n",
      "None\n",
      "Ellipsis\n"
     ]
    }
   ],
   "source": [
    "Geek_sons={'Sabre Laser':229.0,'Mitendo DX':127.30,'Coussin Linux':74.50,'Slip Goldorak':29.90,'Station Nextpresso':184.60}\n",
    "\n",
    "def disponibilite(nom,dico):\n",
    "    \"\"\"\n",
    "    \n",
    "    \"\"\"\n",
    "    #si le nom est dans le dico je retourne True sinon False\n",
    "\n",
    "print(disponibilite(\"caramel\",Geek_sons))\n",
    "print(disponibilite(\"Slip Goldorak\",Geek_sons))\n",
    "\n",
    "def prix_moyen(dico):\n",
    "    \"\"\"\n",
    "    \n",
    "    \"\"\"\n",
    "    somme=0\n",
    "    #je parcours les clés du dictionnaire puis j'ajoute tous les prix grâce au clé, \n",
    "    #à la fin je divise par la longueur du dictionnaire\n",
    "    for elt in dico : #elt = clé du dictionnaire\n",
    "        ...\n",
    "    moy=...\n",
    "    return(moy)\n",
    "\n",
    "print(prix_moyen(Geek_sons))\n",
    "\n",
    "def fourchette_prix(nb1,nb2,dico):\n",
    "    \"\"\"\n",
    "    \n",
    "    \"\"\"\n",
    "    #pas d'aide ici\n",
    "\n",
    "    \n",
    "print(fourchette_prix(50.0, 200.0, Geek_sons))"
   ]
  },
  {
   "cell_type": "markdown",
   "metadata": {},
   "source": [
    "*TUPLE*  \n",
    "Un tuple est non mutable : (2,3), différent de (3,2), ne peut être transformer  \n",
    "Une liste est mutable : \\[2,3\\], différent de \\[3,2\\], mais peut être transformer  \n",
    "Un dictionnaire n'a pas d'ordre : {pair:2,impair:1} est le même dictionnaire que {impair:1,pair:2}  \n",
    "  \n",
    "Exercice :  \n",
    "Ecrire une *fonction som_prod_moy()* qui étant donné un tuple de n entiers envoie un tuple composé de  \n",
    "(la somme des entiers, le produit des entiers, la moyenne des entiers)  \n",
    "Par exemple  \n",
    "print(som_prod_moy((10,11,12,13,14)))  \n",
    "(60,240240,12)"
   ]
  },
  {
   "cell_type": "code",
   "execution_count": null,
   "metadata": {},
   "outputs": [],
   "source": [
    "def som_prod_moy(t):\n",
    "    \"\"\"renvoie  un tuple composé de la somme, produit et moyenne des entiers du tuple t\n",
    "    t : tuple à n éléments\n",
    "    résultat : tuple à 3 éléments \"\"\"\n",
    "    somme=0\n",
    "    produit=1\n",
    "    #boucle for qui parcourt le tuple et calcule somme et produit au fur et à mesure\n",
    "    \n",
    "    #calcule de la moyenne\n",
    "    moy=...\n",
    "    #je retourne le tuple solution\n",
    "    \n",
    "    \n",
    "print(som_prod_moy((10,11,12,13,14)))     "
   ]
  }
 ],
 "metadata": {
  "kernelspec": {
   "display_name": "Python 3",
   "language": "python",
   "name": "python3"
  },
  "language_info": {
   "codemirror_mode": {
    "name": "ipython",
    "version": 3
   },
   "file_extension": ".py",
   "mimetype": "text/x-python",
   "name": "python",
   "nbconvert_exporter": "python",
   "pygments_lexer": "ipython3",
   "version": "3.7.3"
  }
 },
 "nbformat": 4,
 "nbformat_minor": 2
}
